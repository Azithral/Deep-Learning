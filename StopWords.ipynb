{
 "cells": [
  {
   "cell_type": "code",
   "execution_count": 2,
   "metadata": {},
   "outputs": [
    {
     "name": "stderr",
     "output_type": "stream",
     "text": [
      "[nltk_data] Downloading package stopwords to\n",
      "[nltk_data]     C:\\Users\\rohit\\AppData\\Roaming\\nltk_data...\n",
      "[nltk_data]   Unzipping corpora\\stopwords.zip.\n"
     ]
    },
    {
     "data": {
      "text/plain": [
       "True"
      ]
     },
     "execution_count": 2,
     "metadata": {},
     "output_type": "execute_result"
    }
   ],
   "source": [
    "import nltk\n",
    "nltk.download('stopwords')"
   ]
  },
  {
   "cell_type": "code",
   "execution_count": 4,
   "metadata": {},
   "outputs": [
    {
     "name": "stdout",
     "output_type": "stream",
     "text": [
      "['i', 'me', 'my', 'myself', 'we', 'our', 'ours', 'ourselves', 'you', \"you're\", \"you've\", \"you'll\", \"you'd\", 'your', 'yours', 'yourself', 'yourselves', 'he', 'him', 'his', 'himself', 'she', \"she's\", 'her', 'hers', 'herself', 'it', \"it's\", 'its', 'itself', 'they', 'them', 'their', 'theirs', 'themselves', 'what', 'which', 'who', 'whom', 'this', 'that', \"that'll\", 'these', 'those', 'am', 'is', 'are', 'was', 'were', 'be', 'been', 'being', 'have', 'has', 'had', 'having', 'do', 'does', 'did', 'doing', 'a', 'an', 'the', 'and', 'but', 'if', 'or', 'because', 'as', 'until', 'while', 'of', 'at', 'by', 'for', 'with', 'about', 'against', 'between', 'into', 'through', 'during', 'before', 'after', 'above', 'below', 'to', 'from', 'up', 'down', 'in', 'out', 'on', 'off', 'over', 'under', 'again', 'further', 'then', 'once', 'here', 'there', 'when', 'where', 'why', 'how', 'all', 'any', 'both', 'each', 'few', 'more', 'most', 'other', 'some', 'such', 'no', 'nor', 'not', 'only', 'own', 'same', 'so', 'than', 'too', 'very', 's', 't', 'can', 'will', 'just', 'don', \"don't\", 'should', \"should've\", 'now', 'd', 'll', 'm', 'o', 're', 've', 'y', 'ain', 'aren', \"aren't\", 'couldn', \"couldn't\", 'didn', \"didn't\", 'doesn', \"doesn't\", 'hadn', \"hadn't\", 'hasn', \"hasn't\", 'haven', \"haven't\", 'isn', \"isn't\", 'ma', 'mightn', \"mightn't\", 'mustn', \"mustn't\", 'needn', \"needn't\", 'shan', \"shan't\", 'shouldn', \"shouldn't\", 'wasn', \"wasn't\", 'weren', \"weren't\", 'won', \"won't\", 'wouldn', \"wouldn't\"]\n"
     ]
    }
   ],
   "source": [
    "from nltk.corpus import stopwords \n",
    "stop_words = stopwords.words(\"english\")\n",
    "print(stop_words)"
   ]
  },
  {
   "cell_type": "code",
   "execution_count": 7,
   "metadata": {},
   "outputs": [],
   "source": [
    "from spacy.lang.en.stop_words import STOP_WORDS"
   ]
  },
  {
   "cell_type": "code",
   "execution_count": 8,
   "metadata": {},
   "outputs": [
    {
     "name": "stdout",
     "output_type": "stream",
     "text": [
      "{'must', 'indeed', 'others', 'had', \"'m\", 'during', 'ca', 'anywhere', 'not', 'hereby', 'nevertheless', \"'s\", 'such', 'has', 'did', 'call', 'keep', 'wherein', 'before', 'latter', 'somehow', 'just', 'yourself', 'being', 'in', 'besides', 'quite', 'none', 'thereupon', 'namely', 'whereby', 'between', 'amount', 'still', 'alone', 'out', 'thereby', 'than', 'whenever', 'whatever', 'why', 'else', 'three', 'formerly', 'an', 'enough', 'very', 'whereafter', 'after', 'am', 'although', 'move', 'hereafter', 'yourselves', 'what', 'himself', 'top', 'would', 'again', 'thru', 'among', 'by', 'i', 'until', 'whence', 'nine', 'please', 'became', 'neither', 'less', 'twenty', 'we', 'become', 'both', 'or', 'other', 'whoever', 'should', 'she', 'it', 'fifty', 'something', 'throughout', 'make', 'which', 'while', 'might', 'moreover', 'go', 'you', 'their', \"'ve\", 'without', 'its', 'used', 'own', 'however', 'whole', 'though', 'hundred', 'have', 'them', 'of', 'always', 'eleven', 'give', 'via', 'beside', 'if', 'that', 'take', 'afterwards', 'rather', 'someone', 'meanwhile', 'eight', 'a', 'regarding', 'per', 'along', 'been', 'done', 'everything', 'thereafter', \"n't\", 'across', 'under', 'off', 'since', 'ten', 'above', 'below', 'those', 'four', 'becomes', 'any', 'were', 'with', 'last', 'may', 'how', 'serious', 'our', 'does', 'never', 'here', 'sometime', 'yet', 'seem', 'whether', 'ever', \"'re\", 'most', 'hence', 'he', 'up', 'and', 'sometimes', 'forty', 'there', 'elsewhere', \"'ll\", 'beyond', 'where', 'mine', 'same', 'empty', 'even', 'themselves', 'at', 'third', 'do', 'is', 'anything', 'except', 'one', 'around', 'former', 'twelve', 'whose', 'her', 'thence', 'name', 'yours', 'unless', 'as', 'also', 'herself', 'much', 'really', 'becoming', 'over', 'see', 'every', 'against', 'further', 'herein', 'nor', 'either', 'almost', 'part', 'bottom', 'be', 'another', 'the', 'side', 'was', 'on', 'about', 'whither', 'noone', 'ourselves', 'to', 'show', 'are', 'all', 'me', 'whom', 'say', 'anyone', 'put', 'wherever', 'through', 'many', 'into', 'anyway', 're', 'cannot', 'myself', 'down', 'because', 'made', 'can', 'itself', 'various', 'some', 'within', 'therefore', 'back', 'this', 'but', 'two', 'anyhow', 'only', 'perhaps', 'him', 'could', 'full', 'somewhere', 'towards', 'mostly', 'seeming', 'toward', 'five', 'when', 'everywhere', 'from', 'due', 'least', 'onto', 'no', 'therein', 'they', 'will', 'front', 'seemed', 'everyone', \"'d\", 'nowhere', 'well', 'ours', 'his', 'my', 'whereas', 'already', 'these', 'each', 'hers', 'sixty', 'once', 'for', 'get', 'otherwise', 'latterly', 'doing', 'behind', 'too', 'several', 'six', 'more', 'upon', 'us', 'fifteen', 'together', 'who', 'your', 'often', 'whereupon', 'thus', 'first', 'then', 'beforehand', 'so', 'now', 'hereupon', 'next', 'using', 'nothing', 'seems', 'amongst', 'nobody', 'few'}\n"
     ]
    }
   ],
   "source": [
    "print(STOP_WORDS)"
   ]
  },
  {
   "cell_type": "code",
   "execution_count": 9,
   "metadata": {},
   "outputs": [],
   "source": [
    "stopwords = set(stop_words).union(STOP_WORDS)"
   ]
  },
  {
   "cell_type": "code",
   "execution_count": 10,
   "metadata": {},
   "outputs": [
    {
     "name": "stdout",
     "output_type": "stream",
     "text": [
      "{\"haven't\", 'must', 'hence', \"aren't\", 'he', 'aren', 'up', 'and', 'sometimes', 'there', 'indeed', 'forty', 'elsewhere', \"'ll\", 'others', 'had', \"'m\", 'during', 'beyond', 'where', 'mine', 'same', 'empty', 'even', 'themselves', \"you're\", 'at', 'ca', 'anywhere', 'not', 'hasn', 'hereby', 'third', 'do', 'is', 'anything', 'except', 'one', 'nevertheless', \"hasn't\", \"'s\", 'such', 'theirs', 'needn', 'has', 'around', 'former', 'did', 'call', 'twelve', 'whose', 'keep', 'her', 'before', 'wherein', 'thence', \"doesn't\", 'name', 'yours', 'latter', 'somehow', \"needn't\", 'just', 'yourself', 'being', 'in', 'besides', 'quite', 'unless', 'none', 'as', 'thereupon', 'also', 'haven', 'herself', 'much', 'namely', 'really', 'becoming', 'over', 'whereby', 'see', 'every', 'between', 'against', 'further', 'herein', 'nor', \"wouldn't\", 'amount', 'still', 'either', 'almost', \"mustn't\", 'alone', 'part', 'out', 'thereby', 'than', 'doesn', 'whenever', 'bottom', 'whatever', 'be', 'another', 'why', 'else', 'three', 'the', \"don't\", 'side', 'was', 'formerly', 'on', 'an', 't', 'about', 'enough', 'whither', 'very', 'whereafter', 'noone', 'ourselves', 'after', 'am', 'mustn', 'although', 'to', \"she's\", 'show', 'move', 'are', 'hereafter', 'yourselves', 'all', 'wouldn', 'me', 'whom', 'what', 'himself', 'top', 'would', 'say', 'nobody', \"that'll\", 'anyone', 'again', 'thru', 'put', 've', 'd', 'by', 'i', 'among', 'wherever', 'through', \"shan't\", 'many', 'until', 'll', \"weren't\", 'whence', 'into', 'nine', 'please', 'anyway', 'became', 'neither', 're', 'myself', 'cannot', 'down', 'less', 'twenty', 'we', 'or', 'because', 'both', 'couldn', 'become', 'made', 'other', 'whoever', 'can', 'itself', 'shan', \"you'll\", 'various', 'some', 'should', 'o', 'within', 'therefore', 'm', 'back', 'this', 'but', 'two', 'anyhow', 'she', 'it', 'only', 'fifty', 'something', 'perhaps', 'throughout', \"won't\", 'him', 'which', 'make', 'could', 'while', 'might', 'weren', 'moreover', 'full', 'having', 'go', 'you', 'their', \"'ve\", 'without', 'its', 'somewhere', 'used', 'towards', 'own', \"isn't\", 'however', 'whole', 'isn', 'mostly', 'though', 'seeming', 'hundred', 'them', 'have', 'toward', 'of', 'always', 'five', 'when', 'everywhere', 'from', 'eleven', 'give', 'via', 'due', \"wasn't\", 'beside', 'least', 'that', 'if', 'take', 'onto', 'afterwards', 'they', 'no', 'will', 'wasn', 'therein', 'front', 'rather', 'seemed', 'didn', \"shouldn't\", 'everyone', 'someone', \"mightn't\", \"'d\", 'meanwhile', 'eight', 'don', 'a', 'regarding', 'per', \"should've\", 'nowhere', 'well', 'ours', 'his', 'y', 'been', 'along', 'my', 'done', 'won', 'whereas', 'everything', 'thereafter', 'mightn', 'ain', \"n't\", 'across', 'under', 'already', 'these', 'off', 'each', 'hers', 'hadn', 'sixty', 'since', 'ten', 'above', 'below', 's', 'once', 'for', 'those', 'shouldn', 'four', 'becomes', \"you've\", 'were', 'any', \"couldn't\", 'with', 'get', 'otherwise', 'latterly', \"you'd\", 'last', 'doing', 'too', \"didn't\", 'behind', 'may', 'how', 'serious', 'several', 'six', 'our', 'more', 'does', 'upon', 'us', 'fifteen', 'who', 'your', 'together', 'often', 'whereupon', 'thus', 'first', 'then', 'never', 'beforehand', 'here', 'sometime', 'so', 'now', 'ma', 'hereupon', 'yet', \"it's\", 'seem', 'whether', 'next', 'using', 'nothing', 'seems', 'ever', \"hadn't\", \"'re\", 'amongst', 'few', 'most'}\n"
     ]
    }
   ],
   "source": [
    "print(stopwords)"
   ]
  },
  {
   "cell_type": "code",
   "execution_count": 12,
   "metadata": {},
   "outputs": [
    {
     "data": {
      "text/plain": [
       "['good', 'movie']"
      ]
     },
     "execution_count": 12,
     "metadata": {},
     "output_type": "execute_result"
    }
   ],
   "source": [
    "review = ['this','is','a','good','movie']\n",
    "[token for token in review if token not in stopwords]"
   ]
  },
  {
   "cell_type": "code",
   "execution_count": 14,
   "metadata": {},
   "outputs": [
    {
     "data": {
      "text/plain": [
       "['good', 'movie']"
      ]
     },
     "execution_count": 14,
     "metadata": {},
     "output_type": "execute_result"
    }
   ],
   "source": [
    "review = ['this','is','a','not','good','movie']\n",
    "[token for token in review if token not in stopwords]\n",
    "#We see that not is eliminated...which is bad for the model"
   ]
  },
  {
   "cell_type": "code",
   "execution_count": 17,
   "metadata": {},
   "outputs": [],
   "source": [
    "exceptionStopwords = {\n",
    "    'again',\n",
    "    'against',\n",
    "    'ain',\n",
    "    'almost',\n",
    "    'anyhow',\n",
    "    'anyway',\n",
    "    'aren',\n",
    "    \"aren't\",\n",
    "    'below',\n",
    "    'bottom',\n",
    "    'but',\n",
    "    'cannot',\n",
    "    \"couldn't\",\n",
    "    \"didn\",\n",
    "    \"didn't\",\n",
    "    'done',\n",
    "    'down',\n",
    "    'doesn',\n",
    "    \"doesn't\",\n",
    "    'don',\n",
    "    \"don't\",\n",
    "    'except',\n",
    "    'few',\n",
    "    'hadn',\n",
    "    \"hadn't\",\n",
    "    'hasn',\n",
    "    \"hasn't\",\n",
    "    'haven',\n",
    "    \"haven't\",\n",
    "    'however',\n",
    "    'isn',\n",
    "    \"isn't\",\n",
    "    'least',\n",
    "    'mightn',\n",
    "    \"mightn't\",\n",
    "    'must',\n",
    "    'mustn',\n",
    "    \"mustn't\",\n",
    "    'needn',\n",
    "    \"needn't\",\n",
    "    \"neither\",\n",
    "    'never',\n",
    "    'nevertheless',\n",
    "    'no',\n",
    "    'nobody',\n",
    "    'none',\n",
    "    'noone',\n",
    "    'nor',\n",
    "    'not',\n",
    "    'nothing',\n",
    "    'should',\n",
    "    \"should've\",\n",
    "    'shouldn',\n",
    "    \"shouldn't\",\n",
    "    'too',\n",
    "    'top',\n",
    "    'up',\n",
    "    'wasn',\n",
    "    \"wasn't\",\n",
    "    'well',\n",
    "    \"weren't\",\n",
    "    'weren',\n",
    "    'won',\n",
    "    \"won't\",\n",
    "    'wouldn',\n",
    "    \"wouldn't\"\n",
    "    \n",
    "}\n",
    "finalstop = stopwords - exceptionStopwords"
   ]
  },
  {
   "cell_type": "code",
   "execution_count": 18,
   "metadata": {},
   "outputs": [
    {
     "name": "stdout",
     "output_type": "stream",
     "text": [
      "{'hence', 'he', 'and', 'sometimes', 'there', 'indeed', 'forty', 'elsewhere', \"'ll\", 'others', 'had', \"'m\", 'during', 'beyond', 'where', 'mine', 'same', 'empty', 'even', 'themselves', \"you're\", 'at', 'ca', 'anywhere', 'hereby', 'third', 'do', 'is', 'anything', 'one', \"'s\", 'such', 'theirs', 'has', 'around', 'former', 'did', 'call', 'twelve', 'whose', 'keep', 'her', 'before', 'wherein', 'thence', 'name', 'yours', 'latter', 'somehow', 'just', 'yourself', 'being', 'in', 'besides', 'quite', 'unless', 'as', 'thereupon', 'also', 'herself', 'much', 'namely', 'really', 'becoming', 'over', 'whereby', 'see', 'every', 'between', 'further', 'herein', 'amount', 'still', 'either', 'alone', 'part', 'out', 'thereby', 'than', 'whenever', 'whatever', 'be', 'another', 'why', 'else', 'three', 'the', 'side', 'was', 'formerly', 'on', 'an', 't', 'about', 'enough', 'whither', 'very', 'whereafter', 'ourselves', 'after', 'am', 'although', 'to', \"she's\", 'show', 'move', 'are', 'hereafter', 'yourselves', 'all', 'me', 'whom', 'what', 'himself', 'would', 'say', \"that'll\", 'anyone', 'thru', 'put', 've', 'd', 'by', 'i', 'among', 'wherever', 'through', \"shan't\", 'many', 'until', 'll', 'whence', 'into', 'nine', 'please', 'became', 're', 'myself', 'less', 'twenty', 'we', 'or', 'because', 'both', 'couldn', 'become', 'made', 'other', 'whoever', 'can', 'itself', 'shan', \"you'll\", 'various', 'some', 'o', 'within', 'therefore', 'm', 'back', 'this', 'two', 'she', 'it', 'only', 'fifty', 'something', 'perhaps', 'throughout', 'him', 'which', 'make', 'could', 'while', 'might', 'moreover', 'full', 'having', 'go', 'you', 'their', \"'ve\", 'without', 'its', 'somewhere', 'used', 'towards', 'own', 'whole', 'mostly', 'though', 'seeming', 'hundred', 'them', 'have', 'toward', 'of', 'always', 'five', 'when', 'everywhere', 'from', 'eleven', 'give', 'via', 'due', 'beside', 'that', 'if', 'take', 'onto', 'afterwards', 'they', 'will', 'therein', 'front', 'rather', 'seemed', 'everyone', 'someone', \"'d\", 'meanwhile', 'eight', 'a', 'regarding', 'per', 'nowhere', 'ours', 'his', 'y', 'been', 'along', 'my', 'whereas', 'everything', 'thereafter', \"n't\", 'across', 'under', 'already', 'these', 'off', 'each', 'hers', 'sixty', 'since', 'ten', 'above', 's', 'once', 'for', 'those', 'four', 'becomes', \"you've\", 'were', 'any', 'with', 'get', 'otherwise', 'latterly', \"you'd\", 'last', 'doing', 'behind', 'may', 'how', 'serious', 'several', 'six', 'our', 'more', 'does', 'upon', 'us', 'fifteen', 'who', 'your', 'together', 'often', 'whereupon', 'thus', 'first', 'then', 'beforehand', 'here', 'sometime', 'so', 'now', 'ma', 'hereupon', 'yet', \"it's\", 'seem', 'whether', 'next', 'using', 'seems', 'ever', \"'re\", 'amongst', 'most'}\n"
     ]
    }
   ],
   "source": [
    "print(finalstop)"
   ]
  },
  {
   "cell_type": "code",
   "execution_count": 21,
   "metadata": {},
   "outputs": [
    {
     "data": {
      "text/plain": [
       "['not', 'good', 'movie']"
      ]
     },
     "execution_count": 21,
     "metadata": {},
     "output_type": "execute_result"
    }
   ],
   "source": [
    "review = ['this','is','a','not','good','movie']\n",
    "[token for token in review if token not in finalstop]\n",
    "#The problem of 'not' begin eliminated is now solved"
   ]
  },
  {
   "cell_type": "code",
   "execution_count": null,
   "metadata": {},
   "outputs": [],
   "source": []
  }
 ],
 "metadata": {
  "kernelspec": {
   "display_name": "Python 3",
   "language": "python",
   "name": "python3"
  },
  "language_info": {
   "codemirror_mode": {
    "name": "ipython",
    "version": 3
   },
   "file_extension": ".py",
   "mimetype": "text/x-python",
   "name": "python",
   "nbconvert_exporter": "python",
   "pygments_lexer": "ipython3",
   "version": "3.7.3"
  }
 },
 "nbformat": 4,
 "nbformat_minor": 2
}
