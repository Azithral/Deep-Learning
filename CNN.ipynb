{
 "cells": [
  {
   "cell_type": "code",
   "execution_count": 1,
   "metadata": {},
   "outputs": [],
   "source": [
    "#import packages\n",
    "import torch\n",
    "import torch.nn as nn\n",
    "from torch.autograd import Variable\n",
    "import torchvision.transforms as transforms\n",
    "import torchvision.datasets as dsets\n",
    "import matplotlib.pyplot as plt\n",
    "%matplotlib inline\n",
    "import numpy as np"
   ]
  },
  {
   "cell_type": "code",
   "execution_count": 2,
   "metadata": {},
   "outputs": [],
   "source": [
    "#This code uses MNIST dataset for CNN.you need to change the data loading code for other datasets\n",
    "\n",
    "#Loading data as train_dataset\n",
    "train_dataset = dsets.MNIST(root = './data',\n",
    "                           train = True,\n",
    "                           transform = transforms.ToTensor(),\n",
    "                           download = True)\n",
    "\n",
    "#Loading the test dataset\n",
    "test_dataset = dsets.MNIST(root = './data',\n",
    "                           train = False,\n",
    "                           transform = transforms.ToTensor())\n",
    "                           "
   ]
  },
  {
   "cell_type": "code",
   "execution_count": 3,
   "metadata": {},
   "outputs": [
    {
     "data": {
      "text/plain": [
       "(1, 28, 28)"
      ]
     },
     "execution_count": 3,
     "metadata": {},
     "output_type": "execute_result"
    }
   ],
   "source": [
    "#Checking the length of dataset and shape of data(optional)\n",
    "len(train_dataset)\n",
    "train_dataset[0][0].numpy().shape"
   ]
  },
  {
   "cell_type": "code",
   "execution_count": 4,
   "metadata": {},
   "outputs": [],
   "source": [
    "#Defining batch size and number of iterations\n",
    "batch_size = 100\n",
    "n_iters = 3000"
   ]
  },
  {
   "cell_type": "code",
   "execution_count": 5,
   "metadata": {},
   "outputs": [],
   "source": [
    "#Finding the range for epochs\n",
    "num_epochs = n_iters/(len(train_dataset) / batch_size)\n",
    "num_epochs = int(num_epochs)\n"
   ]
  },
  {
   "cell_type": "code",
   "execution_count": 6,
   "metadata": {},
   "outputs": [
    {
     "data": {
      "text/plain": [
       "True"
      ]
     },
     "execution_count": 6,
     "metadata": {},
     "output_type": "execute_result"
    }
   ],
   "source": [
    "#Making the dataset iterable\n",
    "train_loader = torch.utils.data.DataLoader(dataset = train_dataset,\n",
    "                                          batch_size = batch_size,\n",
    "                                          shuffle = True)\n",
    "                                          \n",
    "test_loader = torch.utils.data.DataLoader(dataset = test_dataset,\n",
    "                                          batch_size = batch_size,\n",
    "                                          shuffle = False)                                       \n",
    "                                          \n",
    "#Checking if the dataset has become iterable(optional)\n",
    "import collections\n",
    "isinstance(train_loader,collections.Iterable)\n",
    "isinstance(test_loader,collections.Iterable)"
   ]
  },
  {
   "cell_type": "code",
   "execution_count": 7,
   "metadata": {},
   "outputs": [],
   "source": [
    "#Creating the model\n",
    "class CNNModel(nn.Module):\n",
    "    def __init__(self):\n",
    "        super(CNNModel , self).__init__()\n",
    "        \n",
    "        #convolution 1\n",
    "        self.cnn1 = nn.Conv2d(in_channels =1, out_channels = 16 , kernel_size = 5, stride = 1,padding = 2)\n",
    "        self.relu1 = nn.ReLU()\n",
    "        \n",
    "        #Max pool 1\n",
    "        self.maxpool1 = nn.MaxPool2d(kernel_size = 2)\n",
    "        \n",
    "        #convolution 2\n",
    "        self.cnn2 = nn.Conv2d(in_channels =16, out_channels = 32 , kernel_size = 5, stride = 1,padding = 2)\n",
    "        self.relu2 = nn.ReLU()\n",
    "        \n",
    "        #Max pool 2\n",
    "        self.maxpool2 = nn.MaxPool2d(kernel_size = 2)\n",
    "        \n",
    "        #fully conected layer(readout)\n",
    "        self.fc = nn.Linear(32*7*7,10)\n",
    "        \n",
    "        \n",
    "    def forward(self , x):\n",
    "        #conolution 1\n",
    "        out = self.cnn1(x)\n",
    "        out = self.relu1(out)\n",
    "        \n",
    "        #max pool 1\n",
    "        out = self.maxpool1(out)\n",
    "        \n",
    "        #convolution 2\n",
    "        out = self.cnn2(out)\n",
    "        out = self.relu2(out)\n",
    "        \n",
    "        #max pool 2 \n",
    "        out = self.maxpool2(out)\n",
    "        \n",
    "        #resize\n",
    "        #original size :(100,32,7,7)\n",
    "        #out.size(0): 100\n",
    "        #New out size = (100,32*7*7)\n",
    "        out = out.view(out.size(0),-1)\n",
    "        \n",
    "        #linear function (readout)\n",
    "        out = self.fc(out)\n",
    "        \n",
    "        return out\n",
    " "
   ]
  },
  {
   "cell_type": "code",
   "execution_count": 8,
   "metadata": {},
   "outputs": [],
   "source": [
    "model = CNNModel()\n",
    "\n",
    "if torch.cuda.is_available():               #To put the model on GPU\n",
    "    model.cuda()"
   ]
  },
  {
   "cell_type": "code",
   "execution_count": 9,
   "metadata": {},
   "outputs": [],
   "source": [
    "#Defining the cross entropy loss\n",
    "criterion = nn.CrossEntropyLoss()"
   ]
  },
  {
   "cell_type": "code",
   "execution_count": 10,
   "metadata": {},
   "outputs": [],
   "source": [
    "#Initializing Optimizer\n",
    "learning_rate = 0.05\n",
    "optimizer = torch.optim.SGD(model.parameters() , lr = learning_rate)"
   ]
  },
  {
   "cell_type": "code",
   "execution_count": 11,
   "metadata": {},
   "outputs": [
    {
     "name": "stdout",
     "output_type": "stream",
     "text": [
      "Iteration : 500,Loss : 0.09813367575407028 , Accuracy: 96 \n",
      "Iteration : 1000,Loss : 0.07711929827928543 , Accuracy: 97 \n",
      "Iteration : 1500,Loss : 0.03596918657422066 , Accuracy: 97 \n",
      "Iteration : 2000,Loss : 0.017032498493790627 , Accuracy: 98 \n",
      "Iteration : 2500,Loss : 0.05400112271308899 , Accuracy: 98 \n",
      "Iteration : 3000,Loss : 0.07246290892362595 , Accuracy: 98 \n"
     ]
    }
   ],
   "source": [
    "#Training the model\n",
    "iter = 0\n",
    "for epoch in range(num_epochs):\n",
    "    for i ,(images ,  labels) in enumerate(train_loader):\n",
    "        \n",
    "        if torch.cuda.is_available():                                    #To put the variables on GPU\n",
    "            \n",
    "            images = Variable(images).cuda()\n",
    "            labels = Variable(labels).cuda()\n",
    "            \n",
    "        else:\n",
    "            images = Variable(images)\n",
    "            labels = Variable(labels)\n",
    "        \n",
    "        #clearing gradient w.r.t parameters\n",
    "        optimizer.zero_grad()\n",
    "        \n",
    "        #Forward pass to get outputs/labels\n",
    "        outputs = model(images)\n",
    "        \n",
    "        #calulate loss using Softmax and crossentropy\n",
    "        loss = criterion(outputs,labels)\n",
    "        \n",
    "        loss.backward()\n",
    "        \n",
    "        #updating parameters\n",
    "        optimizer.step()\n",
    "        \n",
    "        iter+=1\n",
    "        if iter % 500 ==0 :           #limiting the number of iterations to 500 at a time \n",
    "            total = 0\n",
    "            correct = 0\n",
    "            for images,labels in test_loader:\n",
    "                if torch.cuda.is_available():\n",
    "                    inputs = Variable(images).cuda()\n",
    "                else:\n",
    "                    inputs = Variable(images)\n",
    "                outputs = model(inputs)\n",
    "                \n",
    "                _, predicted = torch.max(outputs.data,1)\n",
    "                \n",
    "                total += labels.size(0)\n",
    "                \n",
    "                if torch.cuda.is_available():\n",
    "                    correct += (predicted.cpu() == labels.cpu()).sum()\n",
    "                else:\n",
    "                    correct += (predicted == labels).sum()\n",
    "            accuracy = 100*correct/total\n",
    "            #print loss\n",
    "            \n",
    "            print('Iteration : {},Loss : {} , Accuracy: {} '.format(iter,loss.item(),accuracy))   \n",
    "                \n",
    "            \n",
    "        \n",
    "\n"
   ]
  },
  {
   "cell_type": "code",
   "execution_count": null,
   "metadata": {},
   "outputs": [],
   "source": []
  }
 ],
 "metadata": {
  "kernelspec": {
   "display_name": "Python 3",
   "language": "python",
   "name": "python3"
  },
  "language_info": {
   "codemirror_mode": {
    "name": "ipython",
    "version": 3
   },
   "file_extension": ".py",
   "mimetype": "text/x-python",
   "name": "python",
   "nbconvert_exporter": "python",
   "pygments_lexer": "ipython3",
   "version": "3.7.0"
  }
 },
 "nbformat": 4,
 "nbformat_minor": 2
}
